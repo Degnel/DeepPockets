{
 "cells": [
  {
   "cell_type": "code",
   "execution_count": 25,
   "metadata": {},
   "outputs": [
    {
     "name": "stdout",
     "output_type": "stream",
     "text": [
      "Récupération des données pour BTC-USD...\n",
      "Récupération des données pour GC=F...\n",
      "Récupération des données pour ZW=F...\n",
      "{'Cryptomonnaies': {'BTC-USD':                                     Open           High            Low  \\\n",
      "Date                                                                     \n",
      "2025-01-29 00:00:00+00:00  101287.835938  102902.671875  101287.835938   \n",
      "\n",
      "                                   Close       Volume  Dividends  \\\n",
      "Date                                                               \n",
      "2025-01-29 00:00:00+00:00  101952.898438  43264421888        0.0   \n",
      "\n",
      "                           Stock Splits     Market Cap Shares Outstanding  \\\n",
      "Date                                                                        \n",
      "2025-01-29 00:00:00+00:00           0.0  2020360060928               None   \n",
      "\n",
      "                                                      stock  \n",
      "Date                                                         \n",
      "2025-01-29 00:00:00+00:00  yfinance.Ticker object <BTC-USD>  }, 'Matières premières': {'GC=F':                                   Open         High          Low   Close  \\\n",
      "Date                                                                       \n",
      "2025-01-29 00:00:00-05:00  2771.600098  2775.899902  2763.699951  2775.0   \n",
      "\n",
      "                           Volume  Dividends  Stock Splits Market Cap  \\\n",
      "Date                                                                    \n",
      "2025-01-29 00:00:00-05:00   52985        0.0           0.0       None   \n",
      "\n",
      "                          Shares Outstanding                          stock  \n",
      "Date                                                                         \n",
      "2025-01-29 00:00:00-05:00               None  yfinance.Ticker object <GC=F>  , 'ZW=F':                             Open   High    Low  Close  Volume  Dividends  \\\n",
      "Date                                                                       \n",
      "2025-01-29 00:00:00-05:00  544.5  552.5  544.5  551.5   12438        0.0   \n",
      "\n",
      "                           Stock Splits Market Cap Shares Outstanding  \\\n",
      "Date                                                                    \n",
      "2025-01-29 00:00:00-05:00           0.0       None               None   \n",
      "\n",
      "                                                   stock  \n",
      "Date                                                      \n",
      "2025-01-29 00:00:00-05:00  yfinance.Ticker object <ZW=F>  }}\n"
     ]
    }
   ],
   "source": [
    "import yfinance as yf\n",
    "import pandas as pd\n",
    "import os\n",
    "\n",
    "class FinancialDataFetcher:\n",
    "    def __init__(self, period='1d', interval='1d', force_recreate=False):\n",
    "        self.symbols = {\n",
    "            'Cryptomonnaies': [\n",
    "                'BTC-USD'\n",
    "            ],\n",
    "            'Matières premières': [\n",
    "                'GC=F',\n",
    "                'ZW=F'\n",
    "            ],\n",
    "        }\n",
    "        self.period = period\n",
    "        self.interval = interval\n",
    "        self.force_recreate = force_recreate\n",
    "        self.data_dir = './data/dataset/raw'\n",
    "        os.makedirs(self.data_dir, exist_ok=True)\n",
    "\n",
    "    def get_historical_data(self, symbol):\n",
    "        stock = yf.Ticker(symbol)\n",
    "        hist = stock.history(period=self.period, interval=self.interval)\n",
    "        hist['Volume'] = hist['Volume']\n",
    "        hist['Close'] = hist['Close']\n",
    "        hist['Market Cap'] = stock.info.get('marketCap', None)\n",
    "        hist['Shares Outstanding'] = stock.info.get('sharesOutstanding', None)\n",
    "        hist['stock'] = stock\n",
    "        return hist\n",
    "\n",
    "    def fetch_data(self):\n",
    "        data = {}\n",
    "        for category, syms in self.symbols.items():\n",
    "            data[category] = {}\n",
    "            for sym in syms:\n",
    "                filename = os.path.join(self.data_dir, f\"{category}_{sym}_{self.period}_{self.interval}.csv\")\n",
    "                if os.path.exists(filename) and not self.force_recreate:\n",
    "                    print(f\"Chargement des données existantes pour {sym}...\")\n",
    "                    data[category][sym] = pd.read_csv(filename, index_col=0, parse_dates=True)\n",
    "                else:\n",
    "                    print(f\"Récupération des données pour {sym}...\")\n",
    "                    data[category][sym] = self.get_historical_data(sym)\n",
    "                    data[category][sym].to_csv(filename)\n",
    "        return data\n",
    "    \n",
    "fetcher = FinancialDataFetcher()\n",
    "data = fetcher.fetch_data()\n",
    "print(data)"
   ]
  },
  {
   "cell_type": "code",
   "execution_count": 26,
   "metadata": {},
   "outputs": [],
   "source": [
    "stock = data['Matières premières']['ZW=F']['stock']"
   ]
  }
 ],
 "metadata": {
  "kernelspec": {
   "display_name": ".venv",
   "language": "python",
   "name": "python3"
  },
  "language_info": {
   "codemirror_mode": {
    "name": "ipython",
    "version": 3
   },
   "file_extension": ".py",
   "mimetype": "text/x-python",
   "name": "python",
   "nbconvert_exporter": "python",
   "pygments_lexer": "ipython3",
   "version": "3.11.5"
  }
 },
 "nbformat": 4,
 "nbformat_minor": 2
}
